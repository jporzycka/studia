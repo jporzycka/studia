{
 "cells": [
  {
   "cell_type": "code",
   "execution_count": 5,
   "metadata": {},
   "outputs": [
    {
     "data": {
      "text/plain": [
       "[<matplotlib.lines.Line2D at 0x25b260596f0>]"
      ]
     },
     "execution_count": 5,
     "metadata": {},
     "output_type": "execute_result"
    },
    {
     "data": {
      "image/png": "[encoded data removed]",
      "text/plain": [
       "<Figure size 640x480 with 1 Axes>"
      ]
     },
     "metadata": {},
     "output_type": "display_data"
    }
   ],
   "source": [
    "import numpy as np\n",
    "import matplotlib.pyplot as plt\n",
    "\n",
    "x = np.arange(0,11,0.1)\n",
    "s = np.sin(x)+1/(x+1)+13\n",
    "plt.plot(x, s)"
   ]
  },
  {
   "cell_type": "code",
   "execution_count": 9,
   "metadata": {},
   "outputs": [
    {
     "data": {
      "text/plain": [
       "15"
      ]
     },
     "execution_count": 9,
     "metadata": {},
     "output_type": "execute_result"
    }
   ],
   "source": [
    "import numpy as np\n",
    "  \n",
    "# creating a 3X3 Numpy matrix\n",
    "n_array = np.array([[55, 25, 15],\n",
    "                    [30, 44, 2],\n",
    "                    [11, 45, 77]])\n",
    "  \n",
    "\n",
    "\n",
    "def get_trace(array):\n",
    "  # zwraca ślad macierzy 2D\n",
    "  return np.trace(array)\n",
    "\n",
    "get_trace(n_array)\n",
    "A = np.array([[1,2,3], [4,5,6], [7,8,9]])\n",
    "get_trace(A)"
   ]
  },
  {
   "cell_type": "code",
   "execution_count": 14,
   "metadata": {},
   "outputs": [
    {
     "data": {
      "text/plain": [
       "array([1, 2, 3, 4])"
      ]
     },
     "execution_count": 14,
     "metadata": {},
     "output_type": "execute_result"
    }
   ],
   "source": [
    "import numpy as np\n",
    "  \n",
    "  \n",
    "arr1 = np.array([0, 1, 2, 2, 3, 4])\n",
    "arr2 = [1, 3, 4, 2]\n",
    "\n",
    "\n",
    "def get_common(arr1, arr2):\n",
    "    # fcja zwraca unikalne wspólne elementy dwóch wektorów (te same elementy na tych samych pozycjach)\n",
    "    return np.unique(np.intersect1d(arr1, arr2))\n",
    "\n",
    "get_common(arr1, arr2)    "
   ]
  },
  {
   "cell_type": "code",
   "execution_count": 28,
   "metadata": {},
   "outputs": [
    {
     "data": {
      "text/plain": [
       "Index([0, 1, 2, 3, 4, 'Sum'], dtype='object')"
      ]
     },
     "execution_count": 28,
     "metadata": {},
     "output_type": "execute_result"
    }
   ],
   "source": [
    "# Stwórz macierz z wartościami losowymi o wymiarze 100 wierszy i 5 kolumn, zamień ją na DataFrame pandas, dodaj kolumne będącą sumą pozostałych\n",
    "\n",
    "import numpy as np\n",
    "import pandas as pd\n",
    "def foo():\n",
    "    return np.random.rand(100,5)\n",
    "\n",
    "\n",
    "df = pd.DataFrame(data=foo()) \n",
    "df['Sum'] = df.sum(axis=1)\n",
    "\n",
    "df.columns\n",
    "\n",
    "\n"
   ]
  },
  {
   "cell_type": "code",
   "execution_count": 25,
   "metadata": {},
   "outputs": [
    {
     "name": "stdout",
     "output_type": "stream",
     "text": [
      "0.0\n"
     ]
    }
   ],
   "source": [
    "# Oblicz odległość euklidesową między każdym a każdym punktem bez używania pętli for. Nie używaj zewnętrznych funkcji\n",
    "X1 = np.arange(100).reshape(10, 10)\n",
    "X2 = np.arange(100).reshape(10, 10)\n",
    "\n",
    "import numpy as np\n",
    " \n",
    "point1 = np.array((1, 2, 3))\n",
    "point2 = np.array((1, 1, 1))\n",
    " \n",
    "# calculating Euclidean distance\n",
    "# using linalg.norm()\n",
    "dist = np.linalg.norm(X1-X2)\n",
    " \n",
    "# printing Euclidean distance\n",
    "print(dist)"
   ]
  },
  {
   "cell_type": "code",
   "execution_count": 26,
   "metadata": {},
   "outputs": [
    {
     "data": {
      "text/plain": [
       "array([[ 4,  5,  6],\n",
       "       [ 8, 10, 12],\n",
       "       [12, 15, 18]])"
      ]
     },
     "execution_count": 26,
     "metadata": {},
     "output_type": "execute_result"
    }
   ],
   "source": [
    "\n",
    "# Importing library\n",
    "import numpy as np\n",
    "def outer_product(vec1, vec2):\n",
    "  # fcja zwraca produkt zewnętrzny dwóch wektorów\n",
    "    return np.outer(vec1, vec2)\n",
    "\n",
    "outer_product(np.array([1,2,3]), np.array([4,5,6])) #== np.array([[ 4,  5,  6],\n",
    "#        [ 8, 10, 12],\n",
    "#        [12, 15, 18]]))"
   ]
  },
  {
   "cell_type": "code",
   "execution_count": 32,
   "metadata": {},
   "outputs": [
    {
     "data": {
      "text/plain": [
       "['Ala', 'Ma', 'Kota']"
      ]
     },
     "execution_count": 32,
     "metadata": {},
     "output_type": "execute_result"
    }
   ],
   "source": [
    "import pandas as pd\n",
    "\n",
    "def series_uppercase(series):\n",
    "  # zwraca Series, w którym każdy element zaczyna się wielką literą\n",
    "  return series.map(lambda x: x[0].upper() + x[1:])\n",
    "\n",
    "s1 = pd.Series(['Ala', 'ma', 'kota'])\n",
    "\n",
    "list(series_uppercase(s1))\n",
    "\n",
    "\n"
   ]
  },
  {
   "cell_type": "code",
   "execution_count": 39,
   "metadata": {},
   "outputs": [
    {
     "data": {
      "text/plain": [
       "array([-1.        , -0.33333333,  0.33333333,  1.        ])"
      ]
     },
     "execution_count": 39,
     "metadata": {},
     "output_type": "execute_result"
    }
   ],
   "source": [
    "import numpy as np\n",
    "\n",
    "a = np.arange(1,5)\n",
    "\n",
    "def rescale(X):\n",
    "    out_range=(-1, 1)\n",
    "    domain = np.min(x), np.max(x)\n",
    "    y = (x - (domain[1] + domain[0]) / 2) / (domain[1] - domain[0])\n",
    "    return y * (out_range[1] - out_range[0]) + (out_range[1] + out_range[0]) / 2\n",
    "\n",
    "X\n",
    "rescale(X)\n",
    "X\n",
    "\n",
    "np.interp(a, (a.min(), a.max()), (-1, +1))"
   ]
  },
  {
   "cell_type": "code",
   "execution_count": 45,
   "metadata": {},
   "outputs": [
    {
     "data": {
      "text/plain": [
       "[1, 3, 5]"
      ]
     },
     "execution_count": 45,
     "metadata": {},
     "output_type": "execute_result"
    }
   ],
   "source": [
    "import pandas as pd\n",
    "\n",
    "def get_series_at_positions(series, pos):\n",
    "  # zwraca elementy serii na pozycjach pos\n",
    "  return series.loc[pos]\n",
    "\n",
    "s1 = pd.Series([1, 2, 3, 4, 5, 6])\n",
    "list(get_series_at_positions(s1, [0, 2, 4]))"
   ]
  },
  {
   "cell_type": "code",
   "execution_count": 47,
   "metadata": {},
   "outputs": [
    {
     "name": "stdout",
     "output_type": "stream",
     "text": [
      "2\n"
     ]
    }
   ],
   "source": [
    "class A(object):\n",
    "    cnt = 0\n",
    "    def __init__(self):\n",
    "        A.cnt += 1\n",
    "    # uzupełnij kod klasy tak, aby w polu cnt była liczba utworzonych obiektów tej klasy\n",
    "\n",
    "obj1 = A()\n",
    "A()\n",
    "print(A.cnt)"
   ]
  },
  {
   "cell_type": "code",
   "execution_count": 49,
   "metadata": {},
   "outputs": [
    {
     "data": {
      "text/html": [
       "<div>\n",
       "<style scoped>\n",
       "    .dataframe tbody tr th:only-of-type {\n",
       "        vertical-align: middle;\n",
       "    }\n",
       "\n",
       "    .dataframe tbody tr th {\n",
       "        vertical-align: top;\n",
       "    }\n",
       "\n",
       "    .dataframe thead th {\n",
       "        text-align: right;\n",
       "    }\n",
       "</style>\n",
       "<table border=\"1\" class=\"dataframe\">\n",
       "  <thead>\n",
       "    <tr style=\"text-align: right;\">\n",
       "      <th></th>\n",
       "      <th>0</th>\n",
       "      <th>1</th>\n",
       "      <th>2</th>\n",
       "      <th>3</th>\n",
       "      <th>Min</th>\n",
       "      <th>Max</th>\n",
       "    </tr>\n",
       "  </thead>\n",
       "  <tbody>\n",
       "    <tr>\n",
       "      <th>0</th>\n",
       "      <td>4</td>\n",
       "      <td>36</td>\n",
       "      <td>49</td>\n",
       "      <td>31</td>\n",
       "      <td>4</td>\n",
       "      <td>49</td>\n",
       "    </tr>\n",
       "    <tr>\n",
       "      <th>1</th>\n",
       "      <td>19</td>\n",
       "      <td>4</td>\n",
       "      <td>23</td>\n",
       "      <td>8</td>\n",
       "      <td>4</td>\n",
       "      <td>23</td>\n",
       "    </tr>\n",
       "    <tr>\n",
       "      <th>2</th>\n",
       "      <td>4</td>\n",
       "      <td>5</td>\n",
       "      <td>11</td>\n",
       "      <td>30</td>\n",
       "      <td>4</td>\n",
       "      <td>30</td>\n",
       "    </tr>\n",
       "    <tr>\n",
       "      <th>3</th>\n",
       "      <td>6</td>\n",
       "      <td>24</td>\n",
       "      <td>33</td>\n",
       "      <td>39</td>\n",
       "      <td>6</td>\n",
       "      <td>39</td>\n",
       "    </tr>\n",
       "    <tr>\n",
       "      <th>4</th>\n",
       "      <td>36</td>\n",
       "      <td>36</td>\n",
       "      <td>33</td>\n",
       "      <td>45</td>\n",
       "      <td>33</td>\n",
       "      <td>45</td>\n",
       "    </tr>\n",
       "    <tr>\n",
       "      <th>5</th>\n",
       "      <td>12</td>\n",
       "      <td>30</td>\n",
       "      <td>46</td>\n",
       "      <td>35</td>\n",
       "      <td>12</td>\n",
       "      <td>46</td>\n",
       "    </tr>\n",
       "    <tr>\n",
       "      <th>6</th>\n",
       "      <td>32</td>\n",
       "      <td>41</td>\n",
       "      <td>37</td>\n",
       "      <td>17</td>\n",
       "      <td>17</td>\n",
       "      <td>41</td>\n",
       "    </tr>\n",
       "    <tr>\n",
       "      <th>7</th>\n",
       "      <td>22</td>\n",
       "      <td>12</td>\n",
       "      <td>29</td>\n",
       "      <td>45</td>\n",
       "      <td>12</td>\n",
       "      <td>45</td>\n",
       "    </tr>\n",
       "    <tr>\n",
       "      <th>8</th>\n",
       "      <td>1</td>\n",
       "      <td>2</td>\n",
       "      <td>34</td>\n",
       "      <td>24</td>\n",
       "      <td>1</td>\n",
       "      <td>34</td>\n",
       "    </tr>\n",
       "    <tr>\n",
       "      <th>9</th>\n",
       "      <td>20</td>\n",
       "      <td>30</td>\n",
       "      <td>47</td>\n",
       "      <td>18</td>\n",
       "      <td>18</td>\n",
       "      <td>47</td>\n",
       "    </tr>\n",
       "  </tbody>\n",
       "</table>\n",
       "</div>"
      ],
      "text/plain": [
       "    0   1   2   3  Min  Max\n",
       "0   4  36  49  31    4   49\n",
       "1  19   4  23   8    4   23\n",
       "2   4   5  11  30    4   30\n",
       "3   6  24  33  39    6   39\n",
       "4  36  36  33  45   33   45\n",
       "5  12  30  46  35   12   46\n",
       "6  32  41  37  17   17   41\n",
       "7  22  12  29  45   12   45\n",
       "8   1   2  34  24    1   34\n",
       "9  20  30  47  18   18   47"
      ]
     },
     "execution_count": 49,
     "metadata": {},
     "output_type": "execute_result"
    }
   ],
   "source": [
    "import pandas as pd\n",
    "\n",
    "# łatwe\n",
    "\n",
    "def add_min_max(df):\n",
    "  # fcja dodaje kolumny 'min' oraz 'max' zawierające minumum i maksimum każdego wiersza\n",
    "  df['Min'] = df.min(axis=1)\n",
    "  df['Max'] = df.max(axis=1)\n",
    "  return df\n",
    "\n",
    "df = pd.DataFrame(np.random.randint(1,50, 40).reshape(-1, 4))\n",
    "add_min_max(df)\n",
    "df"
   ]
  },
  {
   "cell_type": "code",
   "execution_count": 54,
   "metadata": {},
   "outputs": [
    {
     "data": {
      "text/plain": [
       "6.4031242374328485"
      ]
     },
     "execution_count": 54,
     "metadata": {},
     "output_type": "execute_result"
    }
   ],
   "source": [
    "import math\n",
    "\n",
    "class Vector(object):\n",
    "    def __init__(self, values):\n",
    "        self.values = values\n",
    "\n",
    "    def __getitem__(self, index):\n",
    "        return self.values[index]\n",
    "\n",
    "    def __setitem__(self, index, value):\n",
    "        self.values[index] = value\n",
    "\n",
    "    def __str__(self):\n",
    "        return str(self.values)\n",
    "\n",
    "    def norm(self):\n",
    "        sum_of_squares = sum(value**2 for value in self.values)\n",
    "        return math.sqrt(sum_of_squares)\n",
    "\n",
    "vec = Vector([1,2,3])\n",
    "vec[2] = 6\n",
    "\n",
    "vec[1]\n",
    "str(vec) #== str([1,2,6])\n",
    "vec.norm() #== np.linalg.norm([1,2,6])\n"
   ]
  },
  {
   "cell_type": "code",
   "execution_count": 55,
   "metadata": {},
   "outputs": [],
   "source": [
    "# Stwórz macierz z wartościami losowanymi z rozkladu jednostajnego z przedziału 0,1 o wymiarze 100 x 100 a \n",
    "# następnie ogranicz wszystkie wartości do zakresu (0.3, 0.7) \n",
    "# tj. wartości większe niż 0.7 zamień na 0.7 a mniejsze niż 0.3 na 0.3.\n",
    "\n",
    "import numpy as np\n",
    "import pandas as pd\n",
    "\n",
    "def foo():\n",
    "    matrix = np.random.uniform(0, 1, (100, 100))\n",
    "    matrix = np.clip(matrix, 0.3, 0.7)\n",
    "\n"
   ]
  },
  {
   "cell_type": "code",
   "execution_count": 59,
   "metadata": {},
   "outputs": [
    {
     "ename": "AttributeError",
     "evalue": "'Series' object has no attribute 'difference'",
     "output_type": "error",
     "traceback": [
      "\u001b[1;31m---------------------------------------------------------------------------\u001b[0m",
      "\u001b[1;31mAttributeError\u001b[0m                            Traceback (most recent call last)",
      "Cell \u001b[1;32mIn [59], line 25\u001b[0m\n\u001b[0;32m     22\u001b[0m s1 \u001b[39m=\u001b[39m pd\u001b[39m.\u001b[39mSeries([\u001b[39m1\u001b[39m, \u001b[39m2\u001b[39m, \u001b[39m3\u001b[39m, \u001b[39m4\u001b[39m, \u001b[39m5\u001b[39m])\n\u001b[0;32m     23\u001b[0m s2 \u001b[39m=\u001b[39m pd\u001b[39m.\u001b[39mSeries([\u001b[39m4\u001b[39m, \u001b[39m5\u001b[39m, \u001b[39m6\u001b[39m, \u001b[39m7\u001b[39m, \u001b[39m8\u001b[39m])\n\u001b[1;32m---> 25\u001b[0m series_difference(s1,s2)\n",
      "Cell \u001b[1;32mIn [59], line 19\u001b[0m, in \u001b[0;36mseries_difference\u001b[1;34m(series1, series2)\u001b[0m\n\u001b[0;32m     18\u001b[0m \u001b[39mdef\u001b[39;00m \u001b[39mseries_difference\u001b[39m(series1, series2):\n\u001b[1;32m---> 19\u001b[0m     difference \u001b[39m=\u001b[39m series1\u001b[39m.\u001b[39;49mdifference(series2)\n\u001b[0;32m     20\u001b[0m     \u001b[39mreturn\u001b[39;00m difference\n",
      "File \u001b[1;32mc:\\Users\\eporjus\\AppData\\Local\\Programs\\Python\\Python310\\lib\\site-packages\\pandas\\core\\generic.py:5902\u001b[0m, in \u001b[0;36mNDFrame.__getattr__\u001b[1;34m(self, name)\u001b[0m\n\u001b[0;32m   5895\u001b[0m \u001b[39mif\u001b[39;00m (\n\u001b[0;32m   5896\u001b[0m     name \u001b[39mnot\u001b[39;00m \u001b[39min\u001b[39;00m \u001b[39mself\u001b[39m\u001b[39m.\u001b[39m_internal_names_set\n\u001b[0;32m   5897\u001b[0m     \u001b[39mand\u001b[39;00m name \u001b[39mnot\u001b[39;00m \u001b[39min\u001b[39;00m \u001b[39mself\u001b[39m\u001b[39m.\u001b[39m_metadata\n\u001b[0;32m   5898\u001b[0m     \u001b[39mand\u001b[39;00m name \u001b[39mnot\u001b[39;00m \u001b[39min\u001b[39;00m \u001b[39mself\u001b[39m\u001b[39m.\u001b[39m_accessors\n\u001b[0;32m   5899\u001b[0m     \u001b[39mand\u001b[39;00m \u001b[39mself\u001b[39m\u001b[39m.\u001b[39m_info_axis\u001b[39m.\u001b[39m_can_hold_identifiers_and_holds_name(name)\n\u001b[0;32m   5900\u001b[0m ):\n\u001b[0;32m   5901\u001b[0m     \u001b[39mreturn\u001b[39;00m \u001b[39mself\u001b[39m[name]\n\u001b[1;32m-> 5902\u001b[0m \u001b[39mreturn\u001b[39;00m \u001b[39mobject\u001b[39;49m\u001b[39m.\u001b[39;49m\u001b[39m__getattribute__\u001b[39;49m(\u001b[39mself\u001b[39;49m, name)\n",
      "\u001b[1;31mAttributeError\u001b[0m: 'Series' object has no attribute 'difference'"
     ]
    }
   ],
   "source": [
    "import pandas as pd\n",
    "\n",
    "def series_difference(series1, series2):\n",
    "  # zwraca różnicę mnogościową dwóch serii\n",
    "    s1 = set(map(tuple, series1.values))\n",
    "    s2 = set(map(tuple, series2.values))  \n",
    "    pd.Series(list(s1.difference(s2)))\n",
    "    return pd.Series(list(s1.difference(s2)))\n",
    "\n",
    "\n",
    "s1 = pd.Series([1, 2, 3, 4, 5])\n",
    "s2 = pd.Series([4, 5, 6, 7, 8])\n",
    "\n",
    "series_difference(s1,s2)\n",
    "\n",
    "import pandas as pd\n",
    "\n",
    "def series_difference(series1, series2):\n",
    "    difference = series1.difference(series2)\n",
    "    return difference\n"
   ]
  },
  {
   "cell_type": "code",
   "execution_count": 60,
   "metadata": {},
   "outputs": [
    {
     "ename": "IndentationError",
     "evalue": "expected an indented block after function definition on line 1 (303384324.py, line 6)",
     "output_type": "error",
     "traceback": [
      "\u001b[1;36m  Cell \u001b[1;32mIn [60], line 6\u001b[1;36m\u001b[0m\n\u001b[1;33m    X = np.linspace(-5, 10, num=20)\u001b[0m\n\u001b[1;37m    ^\u001b[0m\n\u001b[1;31mIndentationError\u001b[0m\u001b[1;31m:\u001b[0m expected an indented block after function definition on line 1\n"
     ]
    }
   ],
   "source": [
    "def plot_deriv(x, Y, dY):\n",
    "  # narysuj wykres poniżej\n",
    "\n",
    "\n",
    "    X = np.linspace(-5, 10, num=20)\n",
    "    Y = X**3\n",
    "    dY = 3*X**2\n",
    "\n",
    "plot_deriv(X, Y, dY)"
   ]
  },
  {
   "cell_type": "code",
   "execution_count": 61,
   "metadata": {},
   "outputs": [
    {
     "data": {
      "text/plain": [
       "{1, 3, 4, 5, 6, 7, 8}"
      ]
     },
     "execution_count": 61,
     "metadata": {},
     "output_type": "execute_result"
    }
   ],
   "source": [
    "def get_union(arr1, arr2):\n",
    "    set1 = set(arr1)\n",
    "    set2 = set(arr2)\n",
    "    union = set1.union(set2)\n",
    "    return union\n",
    "\n",
    "\n",
    "set(get_union(np.array([1,1,8,3,5,4,1]), np.array([1,3,8,7,6,3,1])))"
   ]
  }
 ],
 "metadata": {
  "kernelspec": {
   "display_name": "Python 3",
   "language": "python",
   "name": "python3"
  },
  "language_info": {
   "codemirror_mode": {
    "name": "ipython",
    "version": 3
   },
   "file_extension": ".py",
   "mimetype": "text/x-python",
   "name": "python",
   "nbconvert_exporter": "python",
   "pygments_lexer": "ipython3",
   "version": "3.10.5"
  },
  "orig_nbformat": 4,
  "vscode": {
   "interpreter": {
    "hash": "c3356d9d955928589e8df6250bf00279a195aa92082fdeb12ccaafb3224de7dc"
   }
  }
 },
 "nbformat": 4,
 "nbformat_minor": 2
}
