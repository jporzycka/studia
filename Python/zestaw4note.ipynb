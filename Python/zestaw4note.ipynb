{
 "cells": [
  {
   "cell_type": "markdown",
   "metadata": {},
   "source": [
    "Zadanie 1\n",
    "Funkcja flow_rate do modyfikacji"
   ]
  },
  {
   "cell_type": "code",
   "execution_count": 19,
   "metadata": {},
   "outputs": [
    {
     "name": "stdout",
     "output_type": "stream",
     "text": [
      "0.167 kg per second\n"
     ]
    }
   ],
   "source": [
    "def flow_rate(weight, time):\n",
    "    \"\"\" Funkcja wylicza ile wagi produktu przybyło/ubyło w jednostce czasu \"\"\"\n",
    "    return weight / time\n",
    "\n",
    "weight = 0.5\n",
    "time = 3\n",
    "flow = flow_rate(weight, time)\n",
    "print(\"{0:.3} kg per second\".format(flow))\n",
    "\n",
    "# spytać o list not callable jak używam itertools\n",
    "# import itertools\n",
    "# list(itertools.islice(itertools.count(), 4))"
   ]
  },
  {
   "cell_type": "markdown",
   "metadata": {},
   "source": [
    "Zmodyfikuj funckje <i>flow_ratei> tak, aby poniższe wywołania działały poprawnie."
   ]
  },
  {
   "cell_type": "code",
   "execution_count": 36,
   "metadata": {},
   "outputs": [
    {
     "name": "stdout",
     "output_type": "stream",
     "text": [
      "10000.0 grams per minute\n",
      "0.167 kg per second\n",
      "0.167 grams per minute\n"
     ]
    }
   ],
   "source": [
    "def flow_rate(weight, time, period=1, units_per_kg=1):\n",
    "    \"\"\" Funkcja wylicza ile wagi produktu przybyło/ubyło w jednostce czasu \"\"\"\n",
    "    return (weight / time) * period * units_per_kg\n",
    "\n",
    "weight = 0.5\n",
    "time = 3\n",
    "\n",
    "flow = flow_rate(weight, time, period=60, units_per_kg=1000)\n",
    "print(\"{} grams per minute\".format(flow))\n",
    "flow = flow_rate(weight, time, period=1, units_per_kg=1)\n",
    "print(\"{0:.3} kg per second\".format(flow))\n",
    "flow = flow_rate(weight, time)\n",
    "print(\"{0:.3} grams per minute\".format(flow))\n",
    "\n",
    "try:\n",
    "    flow = flow_rate(weight, time, 3600, 2.2)\n",
    "except TypeError:\n",
    "    print(True)"
   ]
  },
  {
   "cell_type": "markdown",
   "metadata": {},
   "source": [
    "Wyjaśnić czemu poniższe rzucanie błędu jest porządane"
   ]
  },
  {
   "cell_type": "code",
   "execution_count": null,
   "metadata": {},
   "outputs": [],
   "source": [
    "try:\n",
    "    flow = flow_rate(weight, time, 3600, 2.2)\n",
    "except TypeError:\n",
    "    print(True)"
   ]
  },
  {
   "cell_type": "markdown",
   "metadata": {},
   "source": [
    "Zadanie 2\n",
    "Dopisz definicje dekoratora timeit, który wypisze na wyjscie standardowe czas wywołania udekorowanej funckji np.\n",
    "\n",
    "@timeit\n",
    "def foo(x):\n",
    "    return x**2\n",
    "\n",
    "r = foo(2)\n",
    "wypize:\n",
    "Function foo took: 0.00001 seconds\n",
    "oraz zwróci 4"
   ]
  },
  {
   "cell_type": "code",
   "execution_count": 1,
   "metadata": {},
   "outputs": [
    {
     "name": "stdout",
     "output_type": "stream",
     "text": [
      "Function squares_list took: 0.3234388828277588 seconds\n",
      "Function squares_comprehension took: 0.2608320713043213 seconds\n",
      "Function squares_map took: 0.0 seconds\n"
     ]
    }
   ],
   "source": [
    "from time import time\n",
    "\n",
    "def timeit(func):\n",
    "    \"\"\" Wypisuje czas wywołania udekorowanej funckji \"\"\"\n",
    "    def wrapper(*args, **kwargs):\n",
    "        before = time()\n",
    "        val = func(*args, **kwargs)\n",
    "        print(\"Function\", func.__name__, \"took:\", time() - before, \"seconds\")\n",
    "        return val\n",
    "    return wrapper\n",
    "\n",
    "@timeit\n",
    "def squares_list(n):\n",
    "    squares = []\n",
    "    for i in range(n):\n",
    "        squares.append(i ** 2)\n",
    "    return squares\n",
    "\n",
    "@timeit\n",
    "def squares_comprehension(n):\n",
    "    return [i ** 2 for i in range(n)]\n",
    "\n",
    "@timeit\n",
    "def squares_map(n):\n",
    "    return map(lambda x: x**2, range(n))\n",
    "\n",
    "n = 1000000\n",
    "l = squares_list(n)\n",
    "c = squares_comprehension(n)\n",
    "m = squares_map(n)"
   ]
  },
  {
   "cell_type": "markdown",
   "metadata": {},
   "source": [
    "Zadanie 3\n",
    "Dopisz definicje dekoratora derivate wg. instrukcji w docstringu"
   ]
  },
  {
   "cell_type": "code",
   "execution_count": 2,
   "metadata": {},
   "outputs": [
    {
     "name": "stdout",
     "output_type": "stream",
     "text": [
      "True\n",
      "True\n",
      "True\n",
      "True\n",
      "1280.93493336346 1280.924933360364 \t True\n",
      "1230576.530098915 1230576.5136781898 \t True\n",
      "855.826128780609 855.8161287808803 \t True\n",
      "549315.9472942352 549315.9347111192 \t True\n",
      "1525.937719247304 1525.9277192511406 \t True\n",
      "1746341.5682315824 1746341.553284241 \t True\n",
      "242.85988637366245 242.84988637355931 \t True\n",
      "44232.054124586284 44232.05048373801 \t True\n",
      "601.6790289664641 601.6690289662372 \t True\n",
      "271504.22371923923 271504.21531288105 \t True\n",
      "1188.1601678498555 1188.150167854374 \t True\n",
      "1058775.6276130676 1058775.616029283 \t True\n",
      "1144.8887063306756 1144.8787063339319 \t True\n",
      "983060.4553222655 983060.439162643 \t True\n",
      "139.57121211424237 139.56121211412432 \t True\n",
      "14608.001045417039 14607.9989450727 \t True\n",
      "1406.4160109788645 1406.406010981396 \t True\n",
      "1483483.415842056 1483483.400793452 \t True\n",
      "445.10844715478015 445.09844715492466 \t True\n",
      "148584.47760343552 148584.47074479394 \t True\n",
      "1565.8535528345965 1565.843552835406 \t True\n",
      "1838899.5468616483 1838899.5239671548 \t True\n",
      "70.52463326067482 70.51463326069319 \t True\n",
      "3729.2361870640884 3729.2351279175437 \t True\n",
      "897.1483191213338 897.13831912134 \t True\n",
      "603642.8853869438 603642.8727268975 \t True\n",
      "1348.1672419409733 1348.1572419408851 \t True\n",
      "1363145.9772586823 1363145.9617482407 \t True\n",
      "1558.6631687707268 1558.6531687795764 \t True\n",
      "1822049.7906208036 1822049.7754099611 \t True\n",
      "1141.313058650121 1141.3030586513044 \t True\n",
      "976929.5156002044 976929.5037651171 \t True\n",
      "504.0307883413334 504.02078834184107 \t True\n",
      "190527.72391587493 190527.71631054822 \t True\n",
      "1506.095354235731 1506.085354244535 \t True\n",
      "1701219.832897186 1701219.820702415 \t True\n",
      "1497.893101570662 1497.8831015678443 \t True\n",
      "1682740.3545379636 1682740.3394718785 \t True\n",
      "1534.867667837534 1534.8576678323957 \t True\n",
      "1766841.0718441007 1766841.0453779255 \t True\n"
     ]
    }
   ],
   "source": [
    "import sys\n",
    "sys.float_info.epsilon # epsilon maszynowy\n",
    "\n",
    "def derivate(epsilon=None):\n",
    "    \"\"\"\n",
    "    Zwraca pochodną funkcji w punkcie, wg. wzoru f'(x) = [f(x+h) - f(x)]/h, \n",
    "    gdzie h jest parametrem dekoratora, jeśli nie zostanie podany, należy przyjąć 1000 * epsilon maszynowy\n",
    "    \"\"\"\n",
    "    def decorator(func):\n",
    "        def wrapper(x):\n",
    "            return (func(x+epsilon) - func(x))/epsilon\n",
    "        return wrapper\n",
    "    return decorator\n",
    "\n",
    "\n",
    "@derivate(0.01)\n",
    "def f(x):\n",
    "    return x*x\n",
    "\n",
    "@derivate(0.00001)\n",
    "def g(x):\n",
    "    return x*x*x+3\n",
    "\n",
    "def test(a, b, eps=1):\n",
    "    return abs(round(a)-round(b)) < eps\n",
    "\n",
    "print(test(f(100), 200.0))\n",
    "print(round(f(0)) == 0.0)\n",
    "\n",
    "print(test(g(100), 30000.0))\n",
    "print(round(g(0)) == 0.0)\n",
    "\n",
    "from random import random\n",
    "for x in [random()*1000. for _ in range(20)]:\n",
    "    print(f(x), 2*x, '\\t', test(f(x), 2*x))\n",
    "    print(g(x), 3*x**2, '\\t', test(g(x), 3*x**2))"
   ]
  },
  {
   "cell_type": "markdown",
   "metadata": {},
   "source": [
    "Zadanie 4\n",
    "Dopisz definicje dekoratora accepts wg. instrukcji w docstringu"
   ]
  },
  {
   "cell_type": "code",
   "execution_count": 3,
   "metadata": {},
   "outputs": [
    {
     "name": "stdout",
     "output_type": "stream",
     "text": [
      "True\n",
      "True\n",
      "True\n",
      "True\n",
      "True\n",
      "True\n"
     ]
    }
   ],
   "source": [
    "def accepts(*types):\n",
    "    \"\"\"Sprawdza czy udekorowanej funckji zostały podane odpowiednie parametry zdefiniowane \n",
    "       w argumentach dekoratora\"\"\"\n",
    "    def decorator(func):\n",
    "        def wrapper(*args, **kwargs):\n",
    "            if any(type(arg) for arg in args if type(arg) not in types):\n",
    "                raise TypeError()\n",
    "            return func(*args, **kwargs)\n",
    "        return wrapper\n",
    "    return decorator\n",
    "\n",
    "\n",
    "@accepts(str)\n",
    "def capitalize(word):\n",
    "    return word[0].upper() + word[1:]\n",
    "\n",
    "print(capitalize('ola') == 'Ola')\n",
    "\n",
    "try:\n",
    "    capitalize(2)\n",
    "except TypeError:\n",
    "    print(True)\n",
    "\n",
    "@accepts(float, int)\n",
    "def static_pow(base, exp):\n",
    "    return base ** exp \n",
    "\n",
    "print(static_pow(2., 2) == 4.)\n",
    "print(static_pow(2., exp=2) == 4.)\n",
    "print(static_pow(base=2., exp=2) == 4.)\n",
    "\n",
    "try:\n",
    "    static_pow('x', 10)\n",
    "except TypeError:\n",
    "    print(True)\n",
    "    \n",
    "try:\n",
    "    static_pow(2, 2.2)\n",
    "except TypeError:\n",
    "    print(True)"
   ]
  },
  {
   "cell_type": "markdown",
   "metadata": {},
   "source": [
    "Zadanie 5\n",
    "Dopisz definicje dekoratora returns wg. instrukcji w docstringu"
   ]
  },
  {
   "cell_type": "code",
   "execution_count": 4,
   "metadata": {},
   "outputs": [
    {
     "name": "stdout",
     "output_type": "stream",
     "text": [
      "True\n",
      "True\n",
      "True\n",
      "True\n"
     ]
    }
   ],
   "source": [
    "def returns(*types):\n",
    "    \"\"\"Sprawdza czy udekorowana funkcja zwraca poprawne argumenty, zdefiniowane w parametrach dekoratora\"\"\"\n",
    "    pass\n",
    "\n",
    "def returns(*types):\n",
    "    def decorator(func):\n",
    "        def wrapper(*args, **kwargs):\n",
    "            values = func(*args, **kwargs)\n",
    "            if any(type(val) for val in values if type(val) not in types):\n",
    "                raise TypeError()\n",
    "            return values\n",
    "        return wrapper\n",
    "    return decorator\n",
    "\n",
    "\n",
    "@returns(str)\n",
    "def str_only_identity(word):\n",
    "    return word\n",
    "\n",
    "print(str_only_identity('hello') == 'hello')\n",
    "\n",
    "try:\n",
    "    str_only_identity(10)\n",
    "except TypeError:\n",
    "    print(True)\n",
    "    \n",
    "@returns(int, int)\n",
    "def split_indices(x):\n",
    "    return x[0], x[1]\n",
    "\n",
    "print(split_indices(x=[6,9]) == (6,9))\n",
    "\n",
    "try:\n",
    "    split_indices('AB')\n",
    "except TypeError:\n",
    "    print(True)\n"
   ]
  },
  {
   "cell_type": "markdown",
   "metadata": {},
   "source": [
    "Zadanie 6\n",
    "Stwórz dekorator cached służący do cachowania wywołań dowolnej funkcji, tzn. chcemy by:\n",
    "\n",
    "wywołanie funkcji z określonymi argumentami miało miejsce tylko raz\n",
    "funkcja mogła przyjmować dowolną liczbę nazwanych i nienazwanych argumentów\n",
    "nie musi reagować poprawnie na domyślne argumenty, tzn. wywołanie funkcji z domyślnymi argumentami a podanie dokładnie takich samych może być traktowane jako dwa różne wywołania\n",
    "na opakowanej funkcji można wywołać .cache_reset(), który usunie cache z pamięci\n",
    "wywołanie .cache_status() zwraca string z opisem w postaci:\n",
    "Function FUNCTION_NAME called X times, evaluated Y times"
   ]
  },
  {
   "cell_type": "code",
   "execution_count": 5,
   "metadata": {},
   "outputs": [
    {
     "name": "stdout",
     "output_type": "stream",
     "text": [
      "True\n",
      "True\n",
      "True\n",
      "True\n",
      "True\n",
      "True\n"
     ]
    }
   ],
   "source": [
    "from random import random\n",
    "\n",
    "class cached:\n",
    "    def __init__(self,f):\n",
    "        self.f = f\n",
    "        self.cache = {}\n",
    "        self.eval = 0\n",
    "        self.calls = 0\n",
    "\n",
    "    def __call__(self, *args, **kwargs):\n",
    "        self.calls += 1\n",
    "        k = str((args, sorted(kwargs)))\n",
    "        if k not in self.cache:\n",
    "            self.cache[k] = self.f(*args, **kwargs)\n",
    "            self.eval += 1\n",
    "        return self.cache[k]\n",
    "\n",
    "    def cache_reset(self):\n",
    "        self.cache = {}\n",
    "\n",
    "    def cache_status(self):\n",
    "        return f'Function {self.f.__name__} called {self.calls} times, evaluated {self.eval} times'\n",
    "\n",
    "@cached\n",
    "def foo(x, y=1, z=4):\n",
    "    return random()\n",
    "        \n",
    "print(foo(3) == foo(3))\n",
    "print(foo(4) == foo(4))\n",
    "print(foo(3, z=-1, y=3) == foo(3, y=3, z=-1))\n",
    "print(foo(3) != foo(x=3))\n",
    "a = foo(3)\n",
    "foo.cache_reset()\n",
    "print(a != foo(3))\n",
    "print(foo.cache_status() == 'Function foo called 10 times, evaluated 5 times')"
   ]
  },
  {
   "cell_type": "markdown",
   "metadata": {},
   "source": [
    "Zadanie 7\n",
    "Napisz dekorator który będzie robić n-krotne złożenie funkcji, gdzie n jest parametrem dekoratora"
   ]
  },
  {
   "cell_type": "code",
   "execution_count": 6,
   "metadata": {},
   "outputs": [
    {
     "name": "stdout",
     "output_type": "stream",
     "text": [
      "True\n",
      "True\n",
      "True\n"
     ]
    }
   ],
   "source": [
    "def zlozenie(n):\n",
    "    def decorator(func):\n",
    "        def wrapper(x):\n",
    "            val = func(x)\n",
    "            for _ in range(n-1):\n",
    "                val = func(val)\n",
    "            return val\n",
    "        return wrapper\n",
    "    return decorator\n",
    "\n",
    "@zlozenie(3)\n",
    "def f1(x):\n",
    "    return x+1\n",
    "\n",
    "@zlozenie(2)\n",
    "def f2(x):\n",
    "    return x*x\n",
    "\n",
    "@zlozenie(5)\n",
    "def f3(word):\n",
    "    return \"\".join(chr(ord(l)+1) for l in word)\n",
    "\n",
    "print(f1(2)==5)\n",
    "print(f2(3)==81)\n",
    "print(f3(\"alamakota\")==\"fqfrfptyf\")"
   ]
  },
  {
   "cell_type": "markdown",
   "metadata": {},
   "source": [
    "Python nie ma wbudowanej instrukcji switch. Ale posiada anonimowe funkcje oraz słowniki. Zaimplementuj poniższy switch w postaci słownika funkcji. ` int my_function(x, y) {\n",
    "\n",
    "switch(x) {\n",
    "    case 1: return y*y;\n",
    "    case 2: return x+y;\n",
    "    case 3: return x*y;\n",
    "    case 4: return 0;\n",
    "}\n",
    "} `\n",
    "\n",
    "PS. Nigdy nie róbcie tego w faktycznym kodzie :)"
   ]
  },
  {
   "cell_type": "code",
   "execution_count": 7,
   "metadata": {},
   "outputs": [
    {
     "name": "stdout",
     "output_type": "stream",
     "text": [
      "True\n",
      "True\n",
      "True\n",
      "True\n"
     ]
    }
   ],
   "source": [
    "def my_function(x, y):\n",
    "    return {\n",
    "    1: lambda x,y: y*y,\n",
    "    2: lambda x,y: x+y,\n",
    "    3: lambda x,y: x*y,\n",
    "    4: lambda x,y: 0,\n",
    "    }[x](x,y)\n",
    "\n",
    "print(my_function(1,3)==9)\n",
    "print(my_function(2,4)==6)\n",
    "print(my_function(3,1)==3)\n",
    "print(my_function(4,9)==0)"
   ]
  }
 ],
 "metadata": {
  "kernelspec": {
   "display_name": "Python 3.10.5 64-bit",
   "language": "python",
   "name": "python3"
  },
  "language_info": {
   "codemirror_mode": {
    "name": "ipython",
    "version": 3
   },
   "file_extension": ".py",
   "mimetype": "text/x-python",
   "name": "python",
   "nbconvert_exporter": "python",
   "pygments_lexer": "ipython3",
   "version": "3.10.5"
  },
  "orig_nbformat": 4,
  "vscode": {
   "interpreter": {
    "hash": "c3356d9d955928589e8df6250bf00279a195aa92082fdeb12ccaafb3224de7dc"
   }
  }
 },
 "nbformat": 4,
 "nbformat_minor": 2
}
