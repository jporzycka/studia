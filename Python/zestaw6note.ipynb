{
 "cells": [
  {
   "cell_type": "markdown",
   "metadata": {},
   "source": [
    "Zadanie 2 - Regexy\n",
    "Atoms\n",
    "\n",
    "Napisz program, który (używając wyrażeń regularnych) przefiltruje plik atoms.log tak by pozostały jedynie linie dot. bezproblemowego przebiegu eksperymentu. czyli np. powinny zostać odrzucone takie linie jak\n",
    "\n",
    "RUN 000039 COMPLETED. OUTPUT IN FILE yttrium.dat. 1 UNDERFLOW WARNING.\n",
    "czy\n",
    "\n",
    "RUN 000058 COMPLETED. OUTPUT IN FILE cerium.dat. ALGORITHM DID NOT CONVERGE AFTER 100000 ITERATIONS.\n",
    "można jedynie założyć, że każda linijka pasuje do poniższego schematu\n",
    "\n",
    "RUN [[NUMER Z DOKŁADNIE 6 CYFR]] COMPLETED. OUTPUT IN FILE [[NAZWA]].dat. [[COKOLWIEK]]"
   ]
  },
  {
   "cell_type": "code",
   "execution_count": null,
   "metadata": {},
   "outputs": [],
   "source": [
    "import re\n",
    "\n",
    "pattern = ...\n",
    "\n",
    "with open('atoms.log') as atoms:\n",
    "    for line in atoms:\n",
    "        if ...:\n",
    "            print(line)"
   ]
  },
  {
   "cell_type": "markdown",
   "metadata": {},
   "source": [
    "Zadanie 3 - Regexy\n",
    "Messages\n",
    "\n",
    "Napisz program który wypisze linie z logu systemowego \"messages.txt\" które zawierają informacje o nieprawidłowej nazwie użytkownika (invalid user)\n",
    "\n",
    "Przerób program tak, żeby wyświetlał sformatowane komunikaty, tzn.\n",
    "\n",
    "Jun 29 20:18:40 noether sshd[5805]: Invalid user tester from 218.189.194.200\n",
    "powinno zostać przerobione na\n",
    "\n",
    "Niepoprawna nazwa użytkownika: \"tester\", połaczenie z 218.189.194.200 nawiązano 29 czerwca o godz. 20:18"
   ]
  },
  {
   "cell_type": "code",
   "execution_count": null,
   "metadata": {},
   "outputs": [],
   "source": [
    "pattern = ...\n",
    "\n",
    "with open('messages.txt') as messages:\n",
    "    for line in messages:\n",
    "        if ...:\n",
    "            print(line)"
   ]
  },
  {
   "cell_type": "markdown",
   "metadata": {},
   "source": [
    "Zadanie 4 - Collections\n",
    "Uzupenij ponizsze funckje korzystajac z zaimporotwanych klas"
   ]
  },
  {
   "cell_type": "code",
   "execution_count": null,
   "metadata": {},
   "outputs": [],
   "source": [
    "from collections import defaultdict\n",
    "\n",
    "def count_letters(word):\n",
    "    \"\"\" Zwraca slownik gdzie kluczami sa litery, a wartosci ilosc ich wystepowania \"\"\"\n",
    "    pass\n",
    "\n",
    "\n",
    "print(count_letters('aaaaa') == {'a': 5})\n",
    "print(count_letters('abbccaaaa') == {'a': 5, 'b': 2, 'c': 2})\n",
    "print(count_letters('abc') == {'a': 1, 'b': 1, 'c': 1})\n",
    "def group_words_by_first_letter(text):\n",
    "    \"\"\" Dzieli tekst po spacjach i zwraca slownik gdzie kluczami sa pierwsze litery, a wartosciami listy slow zaczynajacych sie na te litery\"\"\"\n",
    "    pass\n",
    "\n",
    "print(group_words_by_first_letter(\"ala ma kota\") == {'a': ['ala'], 'm': ['ma'], 'k': ['kota']})\n",
    "print(group_words_by_first_letter(\"ala ma kota ala ma psa\") == {'a': ['ala', 'ala'], 'm': ['ma', 'ma'], 'k': ['kota'], 'p': ['psa']})   \n",
    "print(group_words_by_first_letter(\"ala ma kota ale marysia ma konia\") == {'a': ['ala', 'ale'], 'm': ['ma', 'marysia', 'ma'], 'k': ['kota', 'konia']})"
   ]
  },
  {
   "cell_type": "markdown",
   "metadata": {},
   "source": [
    "Zadanie 5 - Klasy\n",
    "Uzupełnij brakujące metody poniższej klasy."
   ]
  },
  {
   "cell_type": "code",
   "execution_count": null,
   "metadata": {},
   "outputs": [],
   "source": [
    "class FrozenDictionary(object):\n",
    "    \"\"\"\n",
    "    Odpowiednik frozenset dla zbiorów, czyli słownik, który nie jest modyfikowalny,\n",
    "    a dzięki temu może być np. elementem zbiorów, albo kluczem w innym słowniku.\n",
    "    \"\"\"\n",
    "    \n",
    "    def __init__(self, dictionary):\n",
    "        \"\"\"Tworzy nowy zamrożony słownik z podanego słownika\"\"\"\n",
    "        pass\n",
    "    \n",
    "    def __hash__(self):\n",
    "        \"\"\"Zwraca hasz słownika (int)\"\"\"\n",
    "        pass\n",
    "    \n",
    "    def __eq__(self, d):\n",
    "        \"\"\"Porównuje nasz słownik z zamrożonym słownikiem d\"\"\"\n",
    "        pass\n",
    "    \n",
    "    def __repr__(self):\n",
    "        \"\"\"Zwraca reprezentację naszego słownika jako string\"\"\"\n",
    "        pass\n",
    "        \n",
    "dicts = [FrozenDictionary({'ala': 4}), \n",
    "         FrozenDictionary({'ala': 1, 'jacek': 0}),\n",
    "         FrozenDictionary({'ala': 4}), \n",
    "         FrozenDictionary({'ala': 2}), \n",
    "         FrozenDictionary({'jacek': 0, 'ala': 1})]\n",
    "\n",
    "s = set(dicts)\n",
    "print(dicts[0] == dicts[2])\n",
    "print(dicts[0] != dicts[3])\n",
    "print(len(s) == 3)\n",
    "for d in dicts:\n",
    "    print(d in s)\n",
    "\n",
    "# Powinno wyświetlić coś w stylu set([{'ala': 4}, {'ala': 1, 'jacek': 0}, {'ala': 2}])\n",
    "print(s)"
   ]
  },
  {
   "cell_type": "markdown",
   "metadata": {},
   "source": [
    "Zadanie 6 - Bag of Words\n",
    "Napisz klasę \"Bag of words\", która będzie \"workiem słów\" z zadanego dokumentu. Oznacza to, że ma w sobie przechowywać informacje o tym ile razy każde słowo wystąpiło w dokumencie. Dodatkowo ma udostępniać następującą funkcjonalność:\n",
    "\n",
    "Można utworzyć go na dwa sposoby:\n",
    "bow = BagOfWords(\"ala ma kota ala ma ala\")\n",
    "bow = BagOfWords(open(\"plik.txt\"))\n",
    "Możliwość wyświetlania go po prostu pisząc print(bow) (kolejność taka sama jak przy przeglądaniu forem)\n",
    "ala:3, ma:2, kota:1\n",
    "Sprawdzanie czy jakieś słowo należy do naszego worka pisząc\n",
    "if 'ala' in bow:\n",
    "    ...\n",
    "Przeglądanie słów w worku od najczęściej do najrzadziej występującego, czyli:\n",
    "for word in bow:\n",
    "  print(word)\n",
    "powinniśmy zobaczyć\n",
    "ala\n",
    "ma\n",
    "kota\n",
    "Możliwość dodawania dwóch worków, pisząc\n",
    "bow1 = BagOfWords(\"ala ma kota ala ma ala\")\n",
    "bow2 = BagOfWords(\"tomek tez ma kota\")\n",
    "bow3 = bow1 + bow2\n",
    "print('tomek' in bow1) # False\n",
    "print('tomek' in bow3) # True\n",
    "print('ala' in bow3) # True\n",
    "print(bow3) # ala:3, ma:3, kota:2, tez:1, tomek:1\n",
    "    ```\n",
    "* Odczytywanie częstości wystąpień słów poprzez nawiasy kwadratowe\n",
    "print(bow1[\"ala\"]) # 3 print(bow3[\"ala\"]) # 3\n",
    "\n",
    "* Aktualizację cześtości wystąpień\n",
    "bow3['tomek'] = 10 for el in bow3: print el\n",
    "\n",
    "    powinno wyświetlić najpierw `tomek`"
   ]
  },
  {
   "cell_type": "code",
   "execution_count": null,
   "metadata": {},
   "outputs": [],
   "source": []
  },
  {
   "cell_type": "code",
   "execution_count": 15,
   "metadata": {},
   "outputs": [
    {
     "name": "stdout",
     "output_type": "stream",
     "text": [
      "(1, (4.999994999196206e-10+0.9999995000005j))\n",
      "0j\n"
     ]
    }
   ],
   "source": [
    "def newton(z, f, fprime, max_iter=100, tol=1e-6):\n",
    "    \"\"\"The Newton-Raphson method.\"\"\"\n",
    "    for i in range(max_iter):\n",
    "        step = f(z)/fprime(z)\n",
    "        if abs(step) < tol:\n",
    "            return i, z\n",
    "        z -= step\n",
    "    return i, z\n",
    "\n",
    "f = lambda x: x**2 + 1\n",
    "fprime = lambda x: 2*x\n",
    "\n",
    "print(newton(0.001 + 1j, f, fprime))\n",
    "print(f(0 + 1j))"
   ]
  }
 ],
 "metadata": {
  "kernelspec": {
   "display_name": "Python 3.10.5 64-bit",
   "language": "python",
   "name": "python3"
  },
  "language_info": {
   "codemirror_mode": {
    "name": "ipython",
    "version": 3
   },
   "file_extension": ".py",
   "mimetype": "text/x-python",
   "name": "python",
   "nbconvert_exporter": "python",
   "pygments_lexer": "ipython3",
   "version": "3.10.5"
  },
  "orig_nbformat": 4,
  "vscode": {
   "interpreter": {
    "hash": "c3356d9d955928589e8df6250bf00279a195aa92082fdeb12ccaafb3224de7dc"
   }
  }
 },
 "nbformat": 4,
 "nbformat_minor": 2
}
