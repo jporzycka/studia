{
 "cells": [
  {
   "cell_type": "markdown",
   "metadata": {},
   "source": [
    "Zadanie 2 - Regexy\n",
    "Atoms\n",
    "\n",
    "Napisz program, który (używając wyrażeń regularnych) przefiltruje plik atoms.log tak by pozostały jedynie linie dot. bezproblemowego przebiegu eksperymentu. czyli np. powinny zostać odrzucone takie linie jak\n",
    "\n",
    "RUN 000039 COMPLETED. OUTPUT IN FILE yttrium.dat. 1 UNDERFLOW WARNING.\n",
    "czy\n",
    "\n",
    "RUN 000058 COMPLETED. OUTPUT IN FILE cerium.dat. ALGORITHM DID NOT CONVERGE AFTER 100000 ITERATIONS.\n",
    "można jedynie założyć, że każda linijka pasuje do poniższego schematu\n",
    "\n",
    "RUN [[NUMER Z DOKŁADNIE 6 CYFR]] COMPLETED. OUTPUT IN FILE [[NAZWA]].dat. [[COKOLWIEK]]"
   ]
  },
  {
   "cell_type": "code",
   "execution_count": 16,
   "metadata": {},
   "outputs": [
    {
     "ename": "FileNotFoundError",
     "evalue": "[Errno 2] No such file or directory: 'atoms.log'",
     "output_type": "error",
     "traceback": [
      "\u001b[1;31m---------------------------------------------------------------------------\u001b[0m",
      "\u001b[1;31mFileNotFoundError\u001b[0m                         Traceback (most recent call last)",
      "Cell \u001b[1;32mIn [16], line 5\u001b[0m\n\u001b[0;32m      1\u001b[0m \u001b[39mimport\u001b[39;00m \u001b[39mre\u001b[39;00m\n\u001b[0;32m      3\u001b[0m pattern \u001b[39m=\u001b[39m \u001b[39m\"\u001b[39m\u001b[39mRUN \u001b[39m\u001b[39m\\\u001b[39m\u001b[39md\u001b[39m\u001b[39m{6}\u001b[39;00m\u001b[39m COMPLETED\u001b[39m\u001b[39m\\\u001b[39m\u001b[39m. OUTPUT IN FILE *\u001b[39m\u001b[39m\\\u001b[39m\u001b[39m.dat\u001b[39m\u001b[39m\\\u001b[39m\u001b[39m. *\u001b[39m\u001b[39m\"\u001b[39m\n\u001b[1;32m----> 5\u001b[0m \u001b[39mwith\u001b[39;00m \u001b[39mopen\u001b[39;49m(\u001b[39m'\u001b[39;49m\u001b[39matoms.log\u001b[39;49m\u001b[39m'\u001b[39;49m) \u001b[39mas\u001b[39;00m atoms:\n\u001b[0;32m      6\u001b[0m     \u001b[39mfor\u001b[39;00m line \u001b[39min\u001b[39;00m atoms:\n\u001b[0;32m      7\u001b[0m         \u001b[39mif\u001b[39;00m re\u001b[39m.\u001b[39msearch(pattern, line):\n",
      "\u001b[1;31mFileNotFoundError\u001b[0m: [Errno 2] No such file or directory: 'atoms.log'"
     ]
    }
   ],
   "source": [
    "import re\n",
    "\n",
    "pattern = \"RUN \\d{6} COMPLETED\\. OUTPUT IN FILE *\\.dat\\. *\"\n",
    "\n",
    "with open('atoms.log') as atoms:\n",
    "    for line in atoms:\n",
    "        if re.search(pattern, line):\n",
    "            print(line)"
   ]
  },
  {
   "cell_type": "markdown",
   "metadata": {},
   "source": [
    "Zadanie 3 - Regexy\n",
    "Messages\n",
    "\n",
    "Napisz program który wypisze linie z logu systemowego \"messages.txt\" które zawierają informacje o nieprawidłowej nazwie użytkownika (invalid user)\n",
    "\n",
    "Przerób program tak, żeby wyświetlał sformatowane komunikaty, tzn.\n",
    "\n",
    "Jun 29 20:18:40 noether sshd[5805]: Invalid user tester from 218.189.194.200\n",
    "powinno zostać przerobione na\n",
    "\n",
    "Niepoprawna nazwa użytkownika: \"tester\", połaczenie z 218.189.194.200 nawiązano 29 czerwca o godz. 20:18"
   ]
  },
  {
   "cell_type": "code",
   "execution_count": 17,
   "metadata": {},
   "outputs": [
    {
     "ename": "FileNotFoundError",
     "evalue": "[Errno 2] No such file or directory: 'messages.txt'",
     "output_type": "error",
     "traceback": [
      "\u001b[1;31m---------------------------------------------------------------------------\u001b[0m",
      "\u001b[1;31mFileNotFoundError\u001b[0m                         Traceback (most recent call last)",
      "Cell \u001b[1;32mIn [17], line 3\u001b[0m\n\u001b[0;32m      1\u001b[0m pattern \u001b[39m=\u001b[39m \u001b[39m.\u001b[39m\u001b[39m.\u001b[39m\u001b[39m.\u001b[39m\n\u001b[1;32m----> 3\u001b[0m \u001b[39mwith\u001b[39;00m \u001b[39mopen\u001b[39;49m(\u001b[39m'\u001b[39;49m\u001b[39mmessages.txt\u001b[39;49m\u001b[39m'\u001b[39;49m) \u001b[39mas\u001b[39;00m messages:\n\u001b[0;32m      4\u001b[0m     \u001b[39mfor\u001b[39;00m line \u001b[39min\u001b[39;00m messages:\n\u001b[0;32m      5\u001b[0m         \u001b[39mif\u001b[39;00m \u001b[39m.\u001b[39m\u001b[39m.\u001b[39m\u001b[39m.\u001b[39m:\n",
      "\u001b[1;31mFileNotFoundError\u001b[0m: [Errno 2] No such file or directory: 'messages.txt'"
     ]
    }
   ],
   "source": [
    "pattern = ...\n",
    "\n",
    "with open('messages.txt') as messages:\n",
    "    for line in messages:\n",
    "        if ...:\n",
    "            print(line)"
   ]
  },
  {
   "cell_type": "markdown",
   "metadata": {},
   "source": [
    "Zadanie 4 - Collections\n",
    "Uzupenij ponizsze funckje korzystajac z zaimporotwanych klas"
   ]
  },
  {
   "cell_type": "code",
   "execution_count": 5,
   "metadata": {},
   "outputs": [
    {
     "name": "stdout",
     "output_type": "stream",
     "text": [
      "True\n",
      "True\n",
      "True\n",
      "True\n",
      "True\n",
      "True\n"
     ]
    }
   ],
   "source": [
    "from collections import defaultdict\n",
    "\n",
    "def count_letters(word):\n",
    "    ret = defaultdict(func)\n",
    "    for letter in word:\n",
    "        ret[letter] += 1\n",
    "    return ret\n",
    "\n",
    "\n",
    "print(count_letters('aaaaa') == {'a': 5})\n",
    "print(count_letters('abbccaaaa') == {'a': 5, 'b': 2, 'c': 2})\n",
    "print(count_letters('abc') == {'a': 1, 'b': 1, 'c': 1})\n",
    "\n",
    "def group_words_by_first_letter(text):\n",
    "    \"\"\" Dzieli tekst po spacjach i zwraca slownik gdzie kluczami sa pierwsze litery, a wartosciami listy slow zaczynajacych sie na te litery\"\"\"\n",
    "    a = text.split()\n",
    "    ret = dict()\n",
    "    for element in a:\n",
    "        if element[0] not in ret.keys():\n",
    "            ret[element[0]] = [element]\n",
    "        else:\n",
    "            ret[element[0]].append(element)\n",
    "    return ret\n",
    "\n",
    "print(group_words_by_first_letter(\"ala ma kota\") == {'a': ['ala'], 'm': ['ma'], 'k': ['kota']})\n",
    "print(group_words_by_first_letter(\"ala ma kota ala ma psa\") == {'a': ['ala', 'ala'], 'm': ['ma', 'ma'], 'k': ['kota'], 'p': ['psa']})   \n",
    "print(group_words_by_first_letter(\"ala ma kota ale marysia ma konia\") == {'a': ['ala', 'ale'], 'm': ['ma', 'marysia', 'ma'], 'k': ['kota', 'konia']})"
   ]
  },
  {
   "cell_type": "markdown",
   "metadata": {},
   "source": [
    "Zadanie 5 - Klasy\n",
    "Uzupełnij brakujące metody poniższej klasy."
   ]
  },
  {
   "cell_type": "code",
   "execution_count": 15,
   "metadata": {},
   "outputs": [
    {
     "ename": "TypeError",
     "evalue": "'generator' object is not callable",
     "output_type": "error",
     "traceback": [
      "\u001b[1;31m---------------------------------------------------------------------------\u001b[0m",
      "\u001b[1;31mTypeError\u001b[0m                                 Traceback (most recent call last)",
      "Cell \u001b[1;32mIn [15], line 42\u001b[0m\n\u001b[0;32m     33\u001b[0m         strr \u001b[39m=\u001b[39m strr[:\u001b[39m-\u001b[39m\u001b[39m1\u001b[39m]\u001b[39m+\u001b[39m\u001b[39m\"\u001b[39m\u001b[39m}\u001b[39m\u001b[39m\"\u001b[39m\n\u001b[0;32m     35\u001b[0m dicts \u001b[39m=\u001b[39m [FrozenDictionary({\u001b[39m'\u001b[39m\u001b[39mala\u001b[39m\u001b[39m'\u001b[39m: \u001b[39m4\u001b[39m}), \n\u001b[0;32m     36\u001b[0m          FrozenDictionary({\u001b[39m'\u001b[39m\u001b[39mala\u001b[39m\u001b[39m'\u001b[39m: \u001b[39m1\u001b[39m, \u001b[39m'\u001b[39m\u001b[39mjacek\u001b[39m\u001b[39m'\u001b[39m: \u001b[39m0\u001b[39m}),\n\u001b[0;32m     37\u001b[0m          FrozenDictionary({\u001b[39m'\u001b[39m\u001b[39mala\u001b[39m\u001b[39m'\u001b[39m: \u001b[39m4\u001b[39m}), \n\u001b[0;32m     38\u001b[0m          FrozenDictionary({\u001b[39m'\u001b[39m\u001b[39mala\u001b[39m\u001b[39m'\u001b[39m: \u001b[39m2\u001b[39m}), \n\u001b[0;32m     39\u001b[0m          FrozenDictionary({\u001b[39m'\u001b[39m\u001b[39mjacek\u001b[39m\u001b[39m'\u001b[39m: \u001b[39m0\u001b[39m, \u001b[39m'\u001b[39m\u001b[39mala\u001b[39m\u001b[39m'\u001b[39m: \u001b[39m1\u001b[39m})]\n\u001b[1;32m---> 42\u001b[0m \u001b[39mprint\u001b[39m(dicts[\u001b[39m0\u001b[39;49m] \u001b[39m==\u001b[39;49m dicts[\u001b[39m2\u001b[39;49m])\n\u001b[0;32m     43\u001b[0m \u001b[39mprint\u001b[39m(dicts[\u001b[39m0\u001b[39m] \u001b[39m!=\u001b[39m dicts[\u001b[39m3\u001b[39m])\n\u001b[0;32m     44\u001b[0m \u001b[39mprint\u001b[39m(\u001b[39mlen\u001b[39m(s) \u001b[39m==\u001b[39m \u001b[39m3\u001b[39m)\n",
      "Cell \u001b[1;32mIn [15], line 23\u001b[0m, in \u001b[0;36mFrozenDictionary.__eq__\u001b[1;34m(self, d)\u001b[0m\n\u001b[0;32m     21\u001b[0m \u001b[39mdef\u001b[39;00m \u001b[39m__eq__\u001b[39m(\u001b[39mself\u001b[39m, d):\n\u001b[0;32m     22\u001b[0m     \u001b[39m\"\"\"Porównuje nasz słownik z zamrożonym słownikiem d\"\"\"\u001b[39;00m\n\u001b[1;32m---> 23\u001b[0m     \u001b[39mfor\u001b[39;00m (k,v), (k2, v2) \u001b[39min\u001b[39;00m \u001b[39mzip\u001b[39m[d\u001b[39m.\u001b[39;49mitemss(), \u001b[39mself\u001b[39m\u001b[39m.\u001b[39mitemss]:\n\u001b[0;32m     24\u001b[0m         \u001b[39mif\u001b[39;00m k \u001b[39m!=\u001b[39m k2 \u001b[39mor\u001b[39;00m v \u001b[39m!=\u001b[39m v2:\n\u001b[0;32m     25\u001b[0m             \u001b[39mreturn\u001b[39;00m \u001b[39mFalse\u001b[39;00m\n",
      "\u001b[1;31mTypeError\u001b[0m: 'generator' object is not callable"
     ]
    }
   ],
   "source": [
    "class FrozenDictionary(object):\n",
    "    \"\"\"\n",
    "    Odpowiednik frozenset dla zbiorów, czyli słownik, który nie jest modyfikowalny,\n",
    "    a dzięki temu może być np. elementem zbiorów, albo kluczem w innym słowniku.\n",
    "    \"\"\"\n",
    "    \n",
    "    def __init__(self, dictionary):\n",
    "        \"\"\"Tworzy nowy zamrożony słownik z podanego słownika\"\"\"\n",
    "        self.keys = dictionary.keys()\n",
    "        self.values = dictionary.values()\n",
    "        self.itemss = ((i,j)\n",
    "                       for i,j in\n",
    "                       dictionary.items())\n",
    "    \n",
    "    def __hash__(self):\n",
    "        \"\"\"Zwraca hasz słownika (int)\"\"\"\n",
    "        for k,v in self.itemss:\n",
    "            if k == self:\n",
    "                return v\n",
    "    \n",
    "    def __eq__(self, d):\n",
    "        \"\"\"Porównuje nasz słownik z zamrożonym słownikiem d\"\"\"\n",
    "        for (k,v), (k2, v2) in zip[d.items(), self.items]:\n",
    "            if k != k2 or v != v2:\n",
    "                return False\n",
    "        return True\n",
    "    \n",
    "    def __repr__(self):\n",
    "        \"\"\"Zwraca reprezentację naszego słownika jako string\"\"\"\n",
    "        strr = \"{\"\n",
    "        for k, v in self.itemss:\n",
    "            strr += k +\": \"+ v + \", \"\n",
    "        strr = strr[:-1]+\"}\"\n",
    "        \n",
    "dicts = [FrozenDictionary({'ala': 4}), \n",
    "         FrozenDictionary({'ala': 1, 'jacek': 0}),\n",
    "         FrozenDictionary({'ala': 4}), \n",
    "         FrozenDictionary({'ala': 2}), \n",
    "         FrozenDictionary({'jacek': 0, 'ala': 1})]\n",
    "\n",
    "s = set(dicts)\n",
    "print(dicts[0] == dicts[2])\n",
    "print(dicts[0] != dicts[3])\n",
    "print(len(s) == 3)\n",
    "for d in dicts:\n",
    "    print(d in s)\n",
    "\n",
    "# Powinno wyświetlić coś w stylu set([{'ala': 4}, {'ala': 1, 'jacek': 0}, {'ala': 2}])\n",
    "print(s)"
   ]
  },
  {
   "cell_type": "markdown",
   "metadata": {},
   "source": [
    "Zadanie 6 - Bag of Words\n",
    "Napisz klasę \"Bag of words\", która będzie \"workiem słów\" z zadanego dokumentu. Oznacza to, że ma w sobie przechowywać informacje o tym ile razy każde słowo wystąpiło w dokumencie. Dodatkowo ma udostępniać następującą funkcjonalność:\n",
    "\n",
    "Można utworzyć go na dwa sposoby:\n",
    "bow = BagOfWords(\"ala ma kota ala ma ala\")\n",
    "bow = BagOfWords(open(\"plik.txt\"))\n",
    "Możliwość wyświetlania go po prostu pisząc print(bow) (kolejność taka sama jak przy przeglądaniu forem)\n",
    "ala:3, ma:2, kota:1\n",
    "Sprawdzanie czy jakieś słowo należy do naszego worka pisząc\n",
    "if 'ala' in bow:\n",
    "    ...\n",
    "Przeglądanie słów w worku od najczęściej do najrzadziej występującego, czyli:\n",
    "for word in bow:\n",
    "  print(word)\n",
    "powinniśmy zobaczyć\n",
    "ala\n",
    "ma\n",
    "kota\n",
    "Możliwość dodawania dwóch worków, pisząc\n",
    "bow1 = BagOfWords(\"ala ma kota ala ma ala\")\n",
    "bow2 = BagOfWords(\"tomek tez ma kota\")\n",
    "bow3 = bow1 + bow2\n",
    "print('tomek' in bow1) # False\n",
    "print('tomek' in bow3) # True\n",
    "print('ala' in bow3) # True\n",
    "print(bow3) # ala:3, ma:3, kota:2, tez:1, tomek:1\n",
    "    ```\n",
    "* Odczytywanie częstości wystąpień słów poprzez nawiasy kwadratowe\n",
    "print(bow1[\"ala\"]) # 3 print(bow3[\"ala\"]) # 3\n",
    "\n",
    "* Aktualizację cześtości wystąpień\n",
    "bow3['tomek'] = 10 for el in bow3: print el\n",
    "\n",
    "    powinno wyświetlić najpierw `tomek`"
   ]
  },
  {
   "cell_type": "code",
   "execution_count": 8,
   "metadata": {},
   "outputs": [
    {
     "name": "stdout",
     "output_type": "stream",
     "text": [
      "wewn\n"
     ]
    }
   ],
   "source": [
    "import io\n",
    "from collections import defaultdict\n",
    "\n",
    "def sprawdz():\n",
    "    print('tak')\n",
    "\n",
    "class BagOfWords():\n",
    "    def __init__(self, txt=''):\n",
    "        self._d = defaultdict(int)\n",
    "        if isinstance(txt, io.TextIOWrapper):\n",
    "            for line in txt:\n",
    "                for word in line.split():\n",
    "                    self._d[word] += 1\n",
    "        elif isinstance(txt, str):\n",
    "            for word in txt.split():\n",
    "                self._d[word] += 1\n",
    "\n",
    "        self.index = 0\n",
    "\n",
    "    def __getitem__(self, key):\n",
    "        return self._d[key]\n",
    "\n",
    "    def __setitem__(self, key, value):\n",
    "        self._d[key] = value\n",
    "\n",
    "    def __str__(self):\n",
    "        return ', '.join(f\"{k}:{v}\" for k, v in self._d.items())\n",
    "\n",
    "    def __contains__(self, key):\n",
    "        return key in self._d\n",
    "\n",
    "    def __iter__(self):\n",
    "        return iter(sorted(self._d, key=self._d.get, reverse=True))\n",
    "\n",
    "    def __next__(self):\n",
    "        if self.index == len(self._d):\n",
    "            raise StopIteration\n",
    "        val = list(self._d)[self.index]\n",
    "        self.index = self.index + 1\n",
    "        return val\n",
    "\n",
    "    def __add__(self, second_bag):\n",
    "        new_bag = BagOfWords()\n",
    "        new_bag._d = self.add(self._d, second_bag._d)\n",
    "        return new_bag\n",
    "\n",
    "    @staticmethod\n",
    "    def add(d1, d2):\n",
    "        return defaultdict(int, {**d1, **d2, **{k: d1[k] + d2[k] for k in set(d1) & set(d2)}})\n",
    "\n",
    "    if __name__ == \"__main__\":\n",
    "        print('wewn')\n",
    "\n"
   ]
  }
 ],
 "metadata": {
  "kernelspec": {
   "display_name": "Python 3.10.5 64-bit",
   "language": "python",
   "name": "python3"
  },
  "language_info": {
   "codemirror_mode": {
    "name": "ipython",
    "version": 3
   },
   "file_extension": ".py",
   "mimetype": "text/x-python",
   "name": "python",
   "nbconvert_exporter": "python",
   "pygments_lexer": "ipython3",
   "version": "3.10.5 (tags/v3.10.5:f377153, Jun  6 2022, 16:14:13) [MSC v.1929 64 bit (AMD64)]"
  },
  "orig_nbformat": 4,
  "vscode": {
   "interpreter": {
    "hash": "c3356d9d955928589e8df6250bf00279a195aa92082fdeb12ccaafb3224de7dc"
   }
  }
 },
 "nbformat": 4,
 "nbformat_minor": 2
}
