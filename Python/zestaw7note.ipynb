{
 "cells": [
  {
   "cell_type": "markdown",
   "metadata": {},
   "source": [
    "Zadanie 1\n",
    "Przygotuj demo programu znajdującego miejsca zerowe metodą Newtona. Wykorzystując argparse (link) lub optparse (link) obsłuż:\n",
    "\n",
    "ustalane punktu startowego,\n",
    "wielkość kroku w pochodnej,\n",
    "ilość kroków metody,\n",
    "dokładność\n",
    "pomoc\n",
    "Program uruchamiamy podając, np.:\n",
    "\n",
    "./newton.py x**2+x+1 -h 0.00001"
   ]
  },
  {
   "cell_type": "code",
   "execution_count": null,
   "metadata": {},
   "outputs": [],
   "source": [
    "import argparse\n",
    "from scipy.optimize import newton\n",
    "\n",
    "if __name__ == '__main__':\n",
    "    parser = argparse.ArgumentParser()\n",
    "    parser.add_argument('equation', type=str, help='Newton method')\n",
    "    parser.add_argument('-sp', type = float, default = 0.0, help = 'start point')\n",
    "    parser.add_argument('-i', type = int, default = 100, help = 'max iteration value')\n",
    "    parser.add_argument('-t', type = float, default = 1.48e-8, help = 'tolerance')\n",
    "\n",
    "    args = parser.parse_args()\n",
    "\n",
    "    equation = ''.join(filter(lambda c: \n",
    "                        str.isdigit(c) or \n",
    "                        c in 'x.+-*', \n",
    "                        args.equation))\n",
    "    \n",
    "    py_equation = lambda x: eval(equation)\n",
    "\n",
    "    result = newton(py_equation, args.sp, tol = args.t, maxiter = args.i)\n",
    "\n",
    "    print(result)"
   ]
  },
  {
   "cell_type": "markdown",
   "metadata": {},
   "source": [
    "Zadanie 2\n",
    "Zadanie należy wykonać wykorzystując program BagOfWords z poprzednich zajęć.\n",
    "\n",
    "Przerób ją tak, żeby interpunkcja, cyfry i wszelkie inne znaki nie przeszkadzały w parsowaniu tekstu. Uruchom ja na tekście hamleta. Ile razy występuje słowo hamlet? Jak brzmi 10 najczęściej występujących słów?"
   ]
  },
  {
   "cell_type": "code",
   "execution_count": null,
   "metadata": {},
   "outputs": [],
   "source": []
  },
  {
   "cell_type": "markdown",
   "metadata": {},
   "source": [
    "Zadanie 3\n",
    "Wykorzystując pickle zapisz i odczytaj klasy z poprzedniego zadania nakarmonej Hamletem. Porównaj metody i rozmiar."
   ]
  },
  {
   "cell_type": "code",
   "execution_count": null,
   "metadata": {},
   "outputs": [],
   "source": []
  },
  {
   "cell_type": "markdown",
   "metadata": {},
   "source": [
    "Zadanie 4\n",
    "Wykorzystując https://gist.github.com/pamelafox/986163 podaj aktualną godzinę we:\n",
    "\n",
    "wszystkich krajach, wyświetlając je zgrupowane względem kontynentów,\n",
    "przeprowadź symulacyjne wyświetlanie kolejnych krajów w miarę jak w danym kraju wybija północ, opóżnienie wyświetlania ustaw proporcjonalne do realnego czasu"
   ]
  },
  {
   "cell_type": "code",
   "execution_count": null,
   "metadata": {},
   "outputs": [],
   "source": []
  },
  {
   "cell_type": "markdown",
   "metadata": {},
   "source": [
    "Zadanie 5\n",
    "Dla klasy BagOfWords napisz metody save oraz load wykorzystujące json'a do zapisu i odczytu danych."
   ]
  },
  {
   "cell_type": "code",
   "execution_count": null,
   "metadata": {},
   "outputs": [],
   "source": []
  }
 ],
 "metadata": {
  "kernelspec": {
   "display_name": "Python 3.10.5 64-bit",
   "language": "python",
   "name": "python3"
  },
  "language_info": {
   "codemirror_mode": {
    "name": "ipython",
    "version": 3
   },
   "file_extension": ".py",
   "mimetype": "text/x-python",
   "name": "python",
   "nbconvert_exporter": "python",
   "pygments_lexer": "ipython3",
   "version": "3.10.5"
  },
  "orig_nbformat": 4,
  "vscode": {
   "interpreter": {
    "hash": "c3356d9d955928589e8df6250bf00279a195aa92082fdeb12ccaafb3224de7dc"
   }
  }
 },
 "nbformat": 4,
 "nbformat_minor": 2
}
